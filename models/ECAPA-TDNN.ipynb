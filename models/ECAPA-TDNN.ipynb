{
 "cells": [
  {
   "cell_type": "code",
   "execution_count": 12,
   "id": "03608ca1-dc89-4577-97a8-f22252189639",
   "metadata": {},
   "outputs": [
    {
     "name": "stdout",
     "output_type": "stream",
     "text": [
      "Requirement already satisfied: speechbrain in /opt/anaconda3/lib/python3.11/site-packages (1.0.3)\n",
      "Requirement already satisfied: hyperpyyaml in /opt/anaconda3/lib/python3.11/site-packages (from speechbrain) (1.2.2)\n",
      "Requirement already satisfied: joblib in /opt/anaconda3/lib/python3.11/site-packages (from speechbrain) (1.4.2)\n",
      "Requirement already satisfied: numpy in /opt/anaconda3/lib/python3.11/site-packages (from speechbrain) (1.26.4)\n",
      "Requirement already satisfied: packaging in /opt/anaconda3/lib/python3.11/site-packages (from speechbrain) (24.1)\n",
      "Requirement already satisfied: scipy in /opt/anaconda3/lib/python3.11/site-packages (from speechbrain) (1.13.1)\n",
      "Requirement already satisfied: sentencepiece in /opt/anaconda3/lib/python3.11/site-packages (from speechbrain) (0.2.0)\n",
      "Requirement already satisfied: torch>=1.9 in /opt/anaconda3/lib/python3.11/site-packages (from speechbrain) (2.5.1)\n",
      "Requirement already satisfied: torchaudio in /opt/anaconda3/lib/python3.11/site-packages (from speechbrain) (2.5.1)\n",
      "Requirement already satisfied: tqdm in /opt/anaconda3/lib/python3.11/site-packages (from speechbrain) (4.66.5)\n",
      "Requirement already satisfied: huggingface_hub in /opt/anaconda3/lib/python3.11/site-packages (from speechbrain) (0.26.2)\n",
      "Requirement already satisfied: filelock in /opt/anaconda3/lib/python3.11/site-packages (from torch>=1.9->speechbrain) (3.13.1)\n",
      "Requirement already satisfied: typing-extensions>=4.8.0 in /opt/anaconda3/lib/python3.11/site-packages (from torch>=1.9->speechbrain) (4.11.0)\n",
      "Requirement already satisfied: networkx in /opt/anaconda3/lib/python3.11/site-packages (from torch>=1.9->speechbrain) (3.3)\n",
      "Requirement already satisfied: jinja2 in /opt/anaconda3/lib/python3.11/site-packages (from torch>=1.9->speechbrain) (3.1.4)\n",
      "Requirement already satisfied: fsspec in /opt/anaconda3/lib/python3.11/site-packages (from torch>=1.9->speechbrain) (2024.6.1)\n",
      "Requirement already satisfied: sympy==1.13.1 in /opt/anaconda3/lib/python3.11/site-packages (from torch>=1.9->speechbrain) (1.13.1)\n",
      "Requirement already satisfied: mpmath<1.4,>=1.1.0 in /opt/anaconda3/lib/python3.11/site-packages (from sympy==1.13.1->torch>=1.9->speechbrain) (1.3.0)\n",
      "Requirement already satisfied: pyyaml>=5.1 in /opt/anaconda3/lib/python3.11/site-packages (from huggingface_hub->speechbrain) (6.0.2)\n",
      "Requirement already satisfied: requests in /opt/anaconda3/lib/python3.11/site-packages (from huggingface_hub->speechbrain) (2.32.3)\n",
      "Requirement already satisfied: ruamel.yaml>=0.17.28 in /opt/anaconda3/lib/python3.11/site-packages (from hyperpyyaml->speechbrain) (0.18.6)\n",
      "Requirement already satisfied: ruamel.yaml.clib>=0.2.7 in /opt/anaconda3/lib/python3.11/site-packages (from ruamel.yaml>=0.17.28->hyperpyyaml->speechbrain) (0.2.8)\n",
      "Requirement already satisfied: MarkupSafe>=2.0 in /opt/anaconda3/lib/python3.11/site-packages (from jinja2->torch>=1.9->speechbrain) (2.1.3)\n",
      "Requirement already satisfied: charset-normalizer<4,>=2 in /opt/anaconda3/lib/python3.11/site-packages (from requests->huggingface_hub->speechbrain) (3.3.2)\n",
      "Requirement already satisfied: idna<4,>=2.5 in /opt/anaconda3/lib/python3.11/site-packages (from requests->huggingface_hub->speechbrain) (3.7)\n",
      "Requirement already satisfied: urllib3<3,>=1.21.1 in /opt/anaconda3/lib/python3.11/site-packages (from requests->huggingface_hub->speechbrain) (2.2.3)\n",
      "Requirement already satisfied: certifi>=2017.4.17 in /opt/anaconda3/lib/python3.11/site-packages (from requests->huggingface_hub->speechbrain) (2024.8.30)\n",
      "\u001b[33mWARNING: Error parsing dependencies of textract: .* suffix can only be used with `==` or `!=` operators\n",
      "    extract-msg (<=0.29.*)\n",
      "                 ~~~~~~~^\u001b[0m\u001b[33m\n",
      "\u001b[0mNote: you may need to restart the kernel to use updated packages.\n"
     ]
    }
   ],
   "source": [
    "pip install speechbrain\n"
   ]
  },
  {
   "cell_type": "code",
   "execution_count": 14,
   "id": "6a401863-f156-4184-830f-eb50780293e7",
   "metadata": {},
   "outputs": [
    {
     "name": "stdout",
     "output_type": "stream",
     "text": [
      "Collecting librosa\n",
      "  Downloading librosa-0.11.0-py3-none-any.whl.metadata (8.7 kB)\n",
      "Collecting audioread>=2.1.9 (from librosa)\n",
      "  Downloading audioread-3.0.1-py3-none-any.whl.metadata (8.4 kB)\n",
      "Requirement already satisfied: numba>=0.51.0 in /opt/anaconda3/lib/python3.11/site-packages (from librosa) (0.60.0)\n",
      "Requirement already satisfied: numpy>=1.22.3 in /opt/anaconda3/lib/python3.11/site-packages (from librosa) (1.26.4)\n",
      "Requirement already satisfied: scipy>=1.6.0 in /opt/anaconda3/lib/python3.11/site-packages (from librosa) (1.13.1)\n",
      "Requirement already satisfied: scikit-learn>=1.1.0 in /opt/anaconda3/lib/python3.11/site-packages (from librosa) (1.5.1)\n",
      "Requirement already satisfied: joblib>=1.0 in /opt/anaconda3/lib/python3.11/site-packages (from librosa) (1.4.2)\n",
      "Requirement already satisfied: decorator>=4.3.0 in /opt/anaconda3/lib/python3.11/site-packages (from librosa) (5.1.1)\n",
      "Collecting soundfile>=0.12.1 (from librosa)\n",
      "  Downloading soundfile-0.13.1-py2.py3-none-macosx_11_0_arm64.whl.metadata (16 kB)\n",
      "Collecting pooch>=1.1 (from librosa)\n",
      "  Downloading pooch-1.8.2-py3-none-any.whl.metadata (10 kB)\n",
      "Collecting soxr>=0.3.2 (from librosa)\n",
      "  Downloading soxr-0.5.0.post1-cp311-cp311-macosx_11_0_arm64.whl.metadata (5.6 kB)\n",
      "Requirement already satisfied: typing_extensions>=4.1.1 in /opt/anaconda3/lib/python3.11/site-packages (from librosa) (4.11.0)\n",
      "Requirement already satisfied: lazy_loader>=0.1 in /opt/anaconda3/lib/python3.11/site-packages (from librosa) (0.4)\n",
      "Requirement already satisfied: msgpack>=1.0 in /opt/anaconda3/lib/python3.11/site-packages (from librosa) (1.0.3)\n",
      "Requirement already satisfied: packaging in /opt/anaconda3/lib/python3.11/site-packages (from lazy_loader>=0.1->librosa) (24.1)\n",
      "Requirement already satisfied: llvmlite<0.44,>=0.43.0dev0 in /opt/anaconda3/lib/python3.11/site-packages (from numba>=0.51.0->librosa) (0.43.0)\n",
      "Requirement already satisfied: platformdirs>=2.5.0 in /opt/anaconda3/lib/python3.11/site-packages (from pooch>=1.1->librosa) (3.10.0)\n",
      "Requirement already satisfied: requests>=2.19.0 in /opt/anaconda3/lib/python3.11/site-packages (from pooch>=1.1->librosa) (2.32.3)\n",
      "Requirement already satisfied: threadpoolctl>=3.1.0 in /opt/anaconda3/lib/python3.11/site-packages (from scikit-learn>=1.1.0->librosa) (3.5.0)\n",
      "Requirement already satisfied: cffi>=1.0 in /opt/anaconda3/lib/python3.11/site-packages (from soundfile>=0.12.1->librosa) (1.17.1)\n",
      "Requirement already satisfied: pycparser in /opt/anaconda3/lib/python3.11/site-packages (from cffi>=1.0->soundfile>=0.12.1->librosa) (2.21)\n",
      "Requirement already satisfied: charset-normalizer<4,>=2 in /opt/anaconda3/lib/python3.11/site-packages (from requests>=2.19.0->pooch>=1.1->librosa) (3.3.2)\n",
      "Requirement already satisfied: idna<4,>=2.5 in /opt/anaconda3/lib/python3.11/site-packages (from requests>=2.19.0->pooch>=1.1->librosa) (3.7)\n",
      "Requirement already satisfied: urllib3<3,>=1.21.1 in /opt/anaconda3/lib/python3.11/site-packages (from requests>=2.19.0->pooch>=1.1->librosa) (2.2.3)\n",
      "Requirement already satisfied: certifi>=2017.4.17 in /opt/anaconda3/lib/python3.11/site-packages (from requests>=2.19.0->pooch>=1.1->librosa) (2024.8.30)\n",
      "Downloading librosa-0.11.0-py3-none-any.whl (260 kB)\n",
      "Downloading audioread-3.0.1-py3-none-any.whl (23 kB)\n",
      "Downloading pooch-1.8.2-py3-none-any.whl (64 kB)\n",
      "Downloading soundfile-0.13.1-py2.py3-none-macosx_11_0_arm64.whl (1.1 MB)\n",
      "\u001b[2K   \u001b[90m━━━━━━━━━━━━━━━━━━━━━━━━━━━━━━━━━━━━━━━━\u001b[0m \u001b[32m1.1/1.1 MB\u001b[0m \u001b[31m35.8 MB/s\u001b[0m eta \u001b[36m0:00:00\u001b[0m\n",
      "\u001b[?25hDownloading soxr-0.5.0.post1-cp311-cp311-macosx_11_0_arm64.whl (159 kB)\n",
      "\u001b[33mWARNING: Error parsing dependencies of textract: .* suffix can only be used with `==` or `!=` operators\n",
      "    extract-msg (<=0.29.*)\n",
      "                 ~~~~~~~^\u001b[0m\u001b[33m\n",
      "\u001b[0mInstalling collected packages: soxr, audioread, soundfile, pooch, librosa\n",
      "Successfully installed audioread-3.0.1 librosa-0.11.0 pooch-1.8.2 soundfile-0.13.1 soxr-0.5.0.post1\n",
      "Note: you may need to restart the kernel to use updated packages.\n"
     ]
    }
   ],
   "source": [
    "pip install librosa"
   ]
  },
  {
   "cell_type": "code",
   "execution_count": 26,
   "id": "5962f7bf-ea2d-43ed-9d61-d85ad1017914",
   "metadata": {},
   "outputs": [],
   "source": [
    "import os\n",
    "import librosa\n",
    "import soundfile as sf\n",
    "import torch\n",
    "import numpy as np\n",
    "from speechbrain.inference import SpeakerRecognition\n",
    "from sklearn.metrics.pairwise import cosine_similarity\n"
   ]
  },
  {
   "cell_type": "code",
   "execution_count": 22,
   "id": "fa3fa579-d2c7-43ae-bfd6-24f1d235d458",
   "metadata": {},
   "outputs": [],
   "source": [
    "DATA_DIR = \"data/train/\"\n",
    "TARGET_SR = 16000\n"
   ]
  },
  {
   "cell_type": "code",
   "execution_count": 24,
   "id": "0026b849-905b-4583-a6f2-8a7a603c1154",
   "metadata": {},
   "outputs": [
    {
     "name": "stdout",
     "output_type": "stream",
     "text": [
      "Processing: data/train/s4.wav\n",
      "Processing: data/train/s5.wav\n",
      "Processing: data/train/s7.wav\n",
      "Processing: data/train/s6.wav\n",
      "Processing: data/train/s2.wav\n",
      "Processing: data/train/s3.wav\n",
      "Processing: data/train/s1.wav\n",
      "Processing: data/train/s8.wav\n"
     ]
    }
   ],
   "source": [
    "def preprocess_audio(path):\n",
    "    audio, sr = librosa.load(path, sr=None)\n",
    "    if sr != TARGET_SR:\n",
    "        audio = librosa.resample(audio, orig_sr=sr, target_sr=TARGET_SR)\n",
    "    audio, _ = librosa.effects.trim(audio)  # Trim silence\n",
    "    audio = audio / max(abs(audio))  # Normalize\n",
    "    return audio\n",
    "def process_all_audio():\n",
    "    for root, _, files in os.walk(DATA_DIR):\n",
    "        for file in files:\n",
    "            if file.endswith(\".wav\"):\n",
    "                full_path = os.path.join(root, file)\n",
    "                print(f\"Processing: {full_path}\")\n",
    "                audio = preprocess_audio(full_path)\n",
    "                sf.write(full_path, audio, TARGET_SR)\n",
    "\n",
    "if __name__ == \"__main__\":\n",
    "    process_all_audio()"
   ]
  },
  {
   "cell_type": "code",
   "execution_count": 30,
   "id": "5af5b39c-04d0-48e4-b9d3-6860bd36cd05",
   "metadata": {},
   "outputs": [
    {
     "name": "stdout",
     "output_type": "stream",
     "text": [
      "Identified Speaker: None (Score: -1.0000)\n"
     ]
    }
   ],
   "source": [
    "\n",
    "model = SpeakerRecognition.from_hparams(\n",
    "    source=\"speechbrain/spkrec-ecapa-voxceleb\",\n",
    "    savedir=\"tmp/spkrec-ecapa\"\n",
    ")\n",
    "\n",
    "def get_embedding(file_path):\n",
    "    signal = model.load_audio(file_path)\n",
    "    embedding = model.encode_batch(signal)\n",
    "    return embedding.squeeze().detach().cpu().numpy()\n",
    "\n",
    "# Step 1: Register known speakers\n",
    "speaker_db = {}\n",
    "DATA_DIR = \"data/train/\"\n",
    "\n",
    "for speaker in os.listdir(DATA_DIR):\n",
    "    speaker_path = os.path.join(DATA_DIR, speaker)\n",
    "    if os.path.isdir(speaker_path):\n",
    "        embeddings = []\n",
    "        for file in os.listdir(speaker_path):\n",
    "            if file.endswith(\".wav\"):\n",
    "                emb = get_embedding(os.path.join(speaker_path, file))\n",
    "                embeddings.append(emb)\n",
    "        speaker_db[speaker] = np.mean(embeddings, axis=0)  # Average embedding\n",
    "# Step 2: Identify a speaker from test audio\n",
    "def identify(file_path):\n",
    "    test_emb = get_embedding(file_path).reshape(1, -1)\n",
    "    best_score = -1\n",
    "    best_match = None\n",
    "    for speaker, emb in speaker_db.items():\n",
    "        score = cosine_similarity(test_emb, emb.reshape(1, -1))[0][0]\n",
    "        if score > best_score:\n",
    "            best_score = score\n",
    "            best_match = speaker\n",
    "    return best_match, best_score\n",
    "\n",
    "# Test it\n",
    "test_file = \"data/test/s4.wav\"  # Replace with your test file\n",
    "speaker, score = identify(test_file)\n",
    "print(f\"Identified Speaker: {speaker} (Score: {score:.4f})\")"
   ]
  },
  {
   "cell_type": "code",
   "execution_count": null,
   "id": "06022ef5-5abd-406b-9c7e-28563d9aab5d",
   "metadata": {},
   "outputs": [],
   "source": []
  }
 ],
 "metadata": {
  "kernelspec": {
   "display_name": "Python 3 (ipykernel)",
   "language": "python",
   "name": "python3"
  },
  "language_info": {
   "codemirror_mode": {
    "name": "ipython",
    "version": 3
   },
   "file_extension": ".py",
   "mimetype": "text/x-python",
   "name": "python",
   "nbconvert_exporter": "python",
   "pygments_lexer": "ipython3",
   "version": "3.11.7"
  }
 },
 "nbformat": 4,
 "nbformat_minor": 5
}
