{
  "cells": [
    {
      "cell_type": "code",
      "source": [
        "from google.colab import drive\n",
        "drive.mount('/content/drive')\n"
      ],
      "metadata": {
        "colab": {
          "base_uri": "https://localhost:8080/"
        },
        "id": "a9GkoQL78XJ1",
        "outputId": "c1012bdc-a17f-4ccc-b0ed-e4e46a2fb0d7"
      },
      "id": "a9GkoQL78XJ1",
      "execution_count": 2,
      "outputs": [
        {
          "output_type": "stream",
          "name": "stdout",
          "text": [
            "Mounted at /content/drive\n"
          ]
        }
      ]
    },
    {
      "cell_type": "code",
      "source": [
        "! pip install pydub moviepy ffmpeg-python\n",
        "\n",
        "from pydub import AudioSegment\n",
        "from moviepy.editor import VideoFileClip\n",
        "import os\n"
      ],
      "metadata": {
        "colab": {
          "base_uri": "https://localhost:8080/"
        },
        "id": "rqh50weq8ZJF",
        "outputId": "f7d22c01-c4f0-4b95-8b53-7ec568f50599"
      },
      "id": "rqh50weq8ZJF",
      "execution_count": 12,
      "outputs": [
        {
          "output_type": "stream",
          "name": "stdout",
          "text": [
            "Requirement already satisfied: pydub in /usr/local/lib/python3.11/dist-packages (0.25.1)\n",
            "Requirement already satisfied: moviepy in /usr/local/lib/python3.11/dist-packages (1.0.3)\n",
            "Requirement already satisfied: ffmpeg-python in /usr/local/lib/python3.11/dist-packages (0.2.0)\n",
            "Requirement already satisfied: decorator<5.0,>=4.0.2 in /usr/local/lib/python3.11/dist-packages (from moviepy) (4.4.2)\n",
            "Requirement already satisfied: tqdm<5.0,>=4.11.2 in /usr/local/lib/python3.11/dist-packages (from moviepy) (4.67.1)\n",
            "Requirement already satisfied: requests<3.0,>=2.8.1 in /usr/local/lib/python3.11/dist-packages (from moviepy) (2.32.3)\n",
            "Requirement already satisfied: proglog<=1.0.0 in /usr/local/lib/python3.11/dist-packages (from moviepy) (0.1.12)\n",
            "Requirement already satisfied: numpy>=1.17.3 in /usr/local/lib/python3.11/dist-packages (from moviepy) (2.0.2)\n",
            "Requirement already satisfied: imageio<3.0,>=2.5 in /usr/local/lib/python3.11/dist-packages (from moviepy) (2.37.0)\n",
            "Requirement already satisfied: imageio-ffmpeg>=0.2.0 in /usr/local/lib/python3.11/dist-packages (from moviepy) (0.6.0)\n",
            "Requirement already satisfied: future in /usr/local/lib/python3.11/dist-packages (from ffmpeg-python) (1.0.0)\n",
            "Requirement already satisfied: pillow>=8.3.2 in /usr/local/lib/python3.11/dist-packages (from imageio<3.0,>=2.5->moviepy) (11.2.1)\n",
            "Requirement already satisfied: charset-normalizer<4,>=2 in /usr/local/lib/python3.11/dist-packages (from requests<3.0,>=2.8.1->moviepy) (3.4.2)\n",
            "Requirement already satisfied: idna<4,>=2.5 in /usr/local/lib/python3.11/dist-packages (from requests<3.0,>=2.8.1->moviepy) (3.10)\n",
            "Requirement already satisfied: urllib3<3,>=1.21.1 in /usr/local/lib/python3.11/dist-packages (from requests<3.0,>=2.8.1->moviepy) (2.4.0)\n",
            "Requirement already satisfied: certifi>=2017.4.17 in /usr/local/lib/python3.11/dist-packages (from requests<3.0,>=2.8.1->moviepy) (2025.4.26)\n"
          ]
        }
      ]
    },
    {
      "cell_type": "code",
      "source": [
        "import pandas as pd\n",
        "import numpy as np\n",
        "\n",
        "# Convert dict to DataFrame\n",
        "df = pd.DataFrame.from_dict(embeddings, orient='index')\n",
        "df.index.name = 'filename'\n",
        "\n",
        "# Save to CSV\n",
        "embedding_output_path = \"/content/drive/MyDrive/voicebiometrics/output_file/embeddings.csv\"\n",
        "df.to_csv(embedding_output_path)\n",
        "\n",
        "print(f\"Embeddings saved to: {embedding_output_path}\")\n"
      ],
      "metadata": {
        "colab": {
          "base_uri": "https://localhost:8080/"
        },
        "id": "vYOKxY1X60gd",
        "outputId": "e3bcfc68-c93f-4204-a342-32782029cbbc"
      },
      "id": "vYOKxY1X60gd",
      "execution_count": 13,
      "outputs": [
        {
          "output_type": "stream",
          "name": "stdout",
          "text": [
            "Embeddings saved to: /content/drive/MyDrive/voicebiometrics/output_file/embeddings.csv\n"
          ]
        }
      ]
    },
    {
      "cell_type": "code",
      "source": [
        "import os\n",
        "\n",
        "input_folder = \"/content/drive/MyDrive/voicebiometrics/audio_file\"\n",
        "files = os.listdir(input_folder)\n",
        "\n",
        "print(\"Files in input folder:\")\n",
        "for f in files:\n",
        "    print(f)\n"
      ],
      "metadata": {
        "colab": {
          "base_uri": "https://localhost:8080/"
        },
        "id": "xBCWtNXP60ik",
        "outputId": "95c5539f-7b95-4dc4-f6d5-50d5057999fb"
      },
      "id": "xBCWtNXP60ik",
      "execution_count": 14,
      "outputs": [
        {
          "output_type": "stream",
          "name": "stdout",
          "text": [
            "Files in input folder:\n",
            "WhatsApp Ptt 2025-06-02 at 1.24.21 PM.ogg\n",
            "WhatsApp Audio 2025-06-02 at 1.28.13 PM.mp4\n",
            "WhatsApp Audio 2025-06-02 at 11.29.34 AM.mp4\n"
          ]
        }
      ]
    },
    {
      "cell_type": "code",
      "source": [
        "from pydub import AudioSegment\n",
        "import os\n",
        "\n",
        "def convert_to_wav_universal(input_folder, output_folder):\n",
        "    supported_formats = (\".mp3\", \".wav\", \".ogg\", \".oga\", \".flac\", \".mp4\", \".m4a\")\n",
        "    os.makedirs(output_folder, exist_ok=True)\n",
        "\n",
        "    for file_name in os.listdir(input_folder):\n",
        "        input_path = os.path.join(input_folder, file_name)\n",
        "        if not file_name.lower().endswith(supported_formats):\n",
        "            print(f\" Skipping unsupported file: {file_name}\")\n",
        "            continue\n",
        "\n",
        "        try:\n",
        "            # Try to load the file using pydub\n",
        "            audio = AudioSegment.from_file(input_path)\n",
        "            output_name = os.path.splitext(file_name)[0] + \".wav\"\n",
        "            output_path = os.path.join(output_folder, output_name)\n",
        "\n",
        "            audio.export(output_path, format=\"wav\")\n",
        "            print(f\"Converted: {file_name} → {output_name}\")\n",
        "        except Exception as e:\n",
        "            print(f\"Error converting {file_name}: {e}\")\n",
        "\n",
        "    print(\"✅ All supported media files have been processed.\")\n"
      ],
      "metadata": {
        "id": "acYqIu_E60ko"
      },
      "id": "acYqIu_E60ko",
      "execution_count": 15,
      "outputs": []
    },
    {
      "cell_type": "code",
      "source": [
        "input_folder = \"/content/drive/MyDrive/voicebiometrics/audio_file\"\n",
        "output_wav_folder = \"/content/drive/MyDrive/voicebiometrics/output_file/audio_wav\"\n",
        "\n",
        "convert_to_wav_universal(input_folder, output_wav_folder)\n"
      ],
      "metadata": {
        "colab": {
          "base_uri": "https://localhost:8080/"
        },
        "id": "JywGf9df_g11",
        "outputId": "f1447757-c142-4892-ac60-666d3b20f31d"
      },
      "id": "JywGf9df_g11",
      "execution_count": 16,
      "outputs": [
        {
          "output_type": "stream",
          "name": "stdout",
          "text": [
            "Converted: WhatsApp Ptt 2025-06-02 at 1.24.21 PM.ogg → WhatsApp Ptt 2025-06-02 at 1.24.21 PM.wav\n",
            "Converted: WhatsApp Audio 2025-06-02 at 1.28.13 PM.mp4 → WhatsApp Audio 2025-06-02 at 1.28.13 PM.wav\n",
            "Converted: WhatsApp Audio 2025-06-02 at 11.29.34 AM.mp4 → WhatsApp Audio 2025-06-02 at 11.29.34 AM.wav\n",
            "✅ All supported media files have been processed.\n"
          ]
        }
      ]
    },
    {
      "cell_type": "code",
      "source": [
        "import torch\n",
        "import torchaudio\n",
        "import torchaudio.transforms as T\n",
        "import noisereduce as nr\n",
        "from speechbrain.pretrained import EncoderClassifier\n",
        "import os\n",
        "\n",
        "def audio_to_embedding_enhanced(audio_path):\n",
        "    if not os.path.exists(audio_path):\n",
        "        raise FileNotFoundError(f\"Audio file not found: {audio_path}\")\n",
        "\n",
        "    try:\n",
        "        # Load pretrained ECAPA-TDNN classifier\n",
        "        # It's more efficient to load the model once outside the function if processing many files\n",
        "        # but for a single file processing, loading here is fine.\n",
        "        model = EncoderClassifier.from_hparams(\n",
        "            source=\"speechbrain/spkrec-ecapa-voxceleb\",\n",
        "            savedir=\"pretrained_models/spkrec-ecapa-voxceleb\"\n",
        "        )\n",
        "\n",
        "        waveform, sample_rate = torchaudio.load(audio_path)\n",
        "\n",
        "        # Convert to mono if stereo\n",
        "        if waveform.shape[0] > 1:\n",
        "            waveform = torch.mean(waveform, dim=0, keepdim=True)\n",
        "\n",
        "        # Resample to 16 kHz if needed\n",
        "        if sample_rate != 16000:\n",
        "            resampler = T.Resample(sample_rate, 16000)\n",
        "            waveform = resampler(waveform)\n",
        "            sample_rate = 16000 # Update sample rate after resampling\n",
        "\n",
        "        # Noise reduction with numpy\n",
        "        # Ensure tensor is on CPU for numpy conversion\n",
        "        waveform_np = waveform.squeeze().cpu().numpy()\n",
        "        # Check if denoised has enough samples, nr.reduce_noise might return empty or very short array\n",
        "        if waveform_np.size > 0:\n",
        "            denoised = nr.reduce_noise(y=waveform_np, sr=sample_rate)\n",
        "            waveform = torch.tensor(denoised).unsqueeze(0)\n",
        "        else:\n",
        "            # Handle cases where noise reduction results in empty data\n",
        "            raise RuntimeError(\"Noise reduction resulted in empty audio.\")\n",
        "\n",
        "\n",
        "        # Silence removal via VAD\n",
        "        vad = T.Vad(sample_rate=sample_rate)\n",
        "        waveform = vad(waveform)\n",
        "\n",
        "        if waveform.numel() == 0:\n",
        "            raise RuntimeError(\"No voiced audio after VAD\")\n",
        "\n",
        "        # Normalize waveform amplitude\n",
        "        # Handle case where waveform might be all zeros after processing\n",
        "        if waveform.abs().max() > 1e-6: # Use a small threshold instead of checking for exactly zero\n",
        "             waveform = waveform / waveform.abs().max()\n",
        "        else:\n",
        "            # Handle cases where audio is essentially silent\n",
        "            raise RuntimeError(\"Audio is too quiet after processing.\")\n",
        "\n",
        "\n",
        "        # Pad waveform to minimum 1 second (16000 samples) with constant padding\n",
        "        min_len = 16000\n",
        "        if waveform.shape[1] < min_len:\n",
        "            padding = min_len - waveform.shape[1]\n",
        "            # pad at end, dim=1 because shape = [channels, time]\n",
        "            waveform = torch.nn.functional.pad(waveform, (0, padding), mode='constant', value=0)\n",
        "\n",
        "        # Add batch dimension -> shape: [batch, channels, time]\n",
        "        # Then squeeze the channel dimension -> shape: [batch, time]\n",
        "        waveform = waveform.unsqueeze(0).squeeze(1) # Changed line\n",
        "\n",
        "\n",
        "        # Encode batch (NO lengths argument)\n",
        "        # Pass the length of the waveform explicitly if needed, but ECAPA-TDNN\n",
        "        # should handle batch inputs without lengths if all are padded to the same length.\n",
        "        # Let's stick to the original call without lengths as the padding should handle it.\n",
        "        embedding = model.encode_batch(waveform)\n",
        "\n",
        "\n",
        "        return embedding.squeeze().cpu().numpy()\n",
        "\n",
        "    except Exception as e:\n",
        "        # Re-raise the exception with more context, including the filename\n",
        "        raise RuntimeError(f\"Error processing audio file {os.path.basename(audio_path)}: {str(e)}\")"
      ],
      "metadata": {
        "id": "BPMXPQyz_7IP"
      },
      "id": "BPMXPQyz_7IP",
      "execution_count": 32,
      "outputs": []
    },
    {
      "cell_type": "code",
      "source": [
        "# List WAV files\n",
        "import os\n",
        "\n",
        "wav_dir = \"/content/drive/MyDrive/voicebiometrics/output_file/audio_wav\"\n",
        "wav_files = [f for f in os.listdir(wav_dir) if f.endswith(\".wav\")]\n",
        "\n",
        "# Pick one file to test\n",
        "test_wav = os.path.join(wav_dir, wav_files[0])  # for example, first file\n",
        "\n",
        "# Now call your function with that full path\n",
        "embedding = audio_to_embedding_enhanced(test_wav)\n",
        "print(embedding.shape)\n"
      ],
      "metadata": {
        "colab": {
          "base_uri": "https://localhost:8080/"
        },
        "id": "AP_Qxq91AvQj",
        "outputId": "605f2ee2-8c63-411a-9372-4fd5162ed629"
      },
      "id": "AP_Qxq91AvQj",
      "execution_count": 33,
      "outputs": [
        {
          "output_type": "stream",
          "name": "stderr",
          "text": [
            "INFO:speechbrain.utils.fetching:Fetch hyperparams.yaml: Using symlink found at '/content/pretrained_models/spkrec-ecapa-voxceleb/hyperparams.yaml'\n",
            "INFO:speechbrain.utils.fetching:Fetch custom.py: Fetching from HuggingFace Hub 'speechbrain/spkrec-ecapa-voxceleb' if not cached\n",
            "DEBUG:speechbrain.utils.parameter_transfer:Collecting files (or symlinks) for pretraining in pretrained_models/spkrec-ecapa-voxceleb.\n",
            "INFO:speechbrain.utils.fetching:Fetch embedding_model.ckpt: Using symlink found at '/content/pretrained_models/spkrec-ecapa-voxceleb/embedding_model.ckpt'\n",
            "DEBUG:speechbrain.utils.parameter_transfer:Set local path in self.paths[\"embedding_model\"] = /content/pretrained_models/spkrec-ecapa-voxceleb/embedding_model.ckpt\n",
            "INFO:speechbrain.utils.fetching:Fetch mean_var_norm_emb.ckpt: Using symlink found at '/content/pretrained_models/spkrec-ecapa-voxceleb/mean_var_norm_emb.ckpt'\n",
            "DEBUG:speechbrain.utils.parameter_transfer:Set local path in self.paths[\"mean_var_norm_emb\"] = /content/pretrained_models/spkrec-ecapa-voxceleb/mean_var_norm_emb.ckpt\n",
            "INFO:speechbrain.utils.fetching:Fetch classifier.ckpt: Using symlink found at '/content/pretrained_models/spkrec-ecapa-voxceleb/classifier.ckpt'\n",
            "DEBUG:speechbrain.utils.parameter_transfer:Set local path in self.paths[\"classifier\"] = /content/pretrained_models/spkrec-ecapa-voxceleb/classifier.ckpt\n",
            "INFO:speechbrain.utils.fetching:Fetch label_encoder.txt: Using symlink found at '/content/pretrained_models/spkrec-ecapa-voxceleb/label_encoder.ckpt'\n",
            "DEBUG:speechbrain.utils.parameter_transfer:Set local path in self.paths[\"label_encoder\"] = /content/pretrained_models/spkrec-ecapa-voxceleb/label_encoder.ckpt\n",
            "INFO:speechbrain.utils.parameter_transfer:Loading pretrained files for: embedding_model, mean_var_norm_emb, classifier, label_encoder\n",
            "DEBUG:speechbrain.utils.parameter_transfer:Redirecting (loading from local path): embedding_model -> /content/pretrained_models/spkrec-ecapa-voxceleb/embedding_model.ckpt\n",
            "DEBUG:speechbrain.utils.parameter_transfer:Redirecting (loading from local path): mean_var_norm_emb -> /content/pretrained_models/spkrec-ecapa-voxceleb/mean_var_norm_emb.ckpt\n",
            "DEBUG:speechbrain.utils.parameter_transfer:Redirecting (loading from local path): classifier -> /content/pretrained_models/spkrec-ecapa-voxceleb/classifier.ckpt\n",
            "DEBUG:speechbrain.utils.parameter_transfer:Redirecting (loading from local path): label_encoder -> /content/pretrained_models/spkrec-ecapa-voxceleb/label_encoder.ckpt\n",
            "DEBUG:speechbrain.dataio.encoder:Loaded categorical encoding from /content/pretrained_models/spkrec-ecapa-voxceleb/label_encoder.ckpt\n"
          ]
        },
        {
          "output_type": "stream",
          "name": "stdout",
          "text": [
            "(192,)\n"
          ]
        }
      ]
    },
    {
      "cell_type": "code",
      "source": [
        "import os\n",
        "\n",
        "def process_all_wav_files(wav_folder):\n",
        "    embeddings = {}\n",
        "    wav_files = os.listdir(wav_folder)  # Get all files in the folder\n",
        "\n",
        "    for fname in wav_files:\n",
        "        full_path = os.path.join(wav_folder, fname)\n",
        "        try:\n",
        "            emb = audio_to_embedding_enhanced(full_path)\n",
        "            embeddings[fname] = emb\n",
        "            print(f\"✅ Processed: {fname}\")\n",
        "        except Exception as e:\n",
        "            print(f\"❌ Failed: {fname} → {e}\")\n",
        "\n",
        "    return embeddings\n"
      ],
      "metadata": {
        "id": "pUtqfxzwAOnO"
      },
      "id": "pUtqfxzwAOnO",
      "execution_count": 34,
      "outputs": []
    },
    {
      "cell_type": "code",
      "source": [
        "\n",
        "# Convert to WAV\n",
        "convert_to_wav_universal(input_folder, output_wav_folder)\n",
        "\n",
        "#  Extract embeddings for all WAV files\n",
        "embeddings = process_all_wav_files(output_wav_folder)\n"
      ],
      "metadata": {
        "colab": {
          "base_uri": "https://localhost:8080/"
        },
        "id": "-Q6yQqpHASe5",
        "outputId": "ae8bd349-c8a3-4402-b5cb-8ccfd1a3431d"
      },
      "id": "-Q6yQqpHASe5",
      "execution_count": 35,
      "outputs": [
        {
          "output_type": "stream",
          "name": "stdout",
          "text": [
            "Converted: WhatsApp Ptt 2025-06-02 at 1.24.21 PM.ogg → WhatsApp Ptt 2025-06-02 at 1.24.21 PM.wav\n",
            "Converted: WhatsApp Audio 2025-06-02 at 1.28.13 PM.mp4 → WhatsApp Audio 2025-06-02 at 1.28.13 PM.wav\n"
          ]
        },
        {
          "output_type": "stream",
          "name": "stderr",
          "text": [
            "INFO:speechbrain.utils.fetching:Fetch hyperparams.yaml: Using symlink found at '/content/pretrained_models/spkrec-ecapa-voxceleb/hyperparams.yaml'\n",
            "INFO:speechbrain.utils.fetching:Fetch custom.py: Fetching from HuggingFace Hub 'speechbrain/spkrec-ecapa-voxceleb' if not cached\n"
          ]
        },
        {
          "output_type": "stream",
          "name": "stdout",
          "text": [
            "Converted: WhatsApp Audio 2025-06-02 at 11.29.34 AM.mp4 → WhatsApp Audio 2025-06-02 at 11.29.34 AM.wav\n",
            "✅ All supported media files have been processed.\n"
          ]
        },
        {
          "output_type": "stream",
          "name": "stderr",
          "text": [
            "DEBUG:speechbrain.utils.parameter_transfer:Collecting files (or symlinks) for pretraining in pretrained_models/spkrec-ecapa-voxceleb.\n",
            "INFO:speechbrain.utils.fetching:Fetch embedding_model.ckpt: Using symlink found at '/content/pretrained_models/spkrec-ecapa-voxceleb/embedding_model.ckpt'\n",
            "DEBUG:speechbrain.utils.parameter_transfer:Set local path in self.paths[\"embedding_model\"] = /content/pretrained_models/spkrec-ecapa-voxceleb/embedding_model.ckpt\n",
            "INFO:speechbrain.utils.fetching:Fetch mean_var_norm_emb.ckpt: Using symlink found at '/content/pretrained_models/spkrec-ecapa-voxceleb/mean_var_norm_emb.ckpt'\n",
            "DEBUG:speechbrain.utils.parameter_transfer:Set local path in self.paths[\"mean_var_norm_emb\"] = /content/pretrained_models/spkrec-ecapa-voxceleb/mean_var_norm_emb.ckpt\n",
            "INFO:speechbrain.utils.fetching:Fetch classifier.ckpt: Using symlink found at '/content/pretrained_models/spkrec-ecapa-voxceleb/classifier.ckpt'\n",
            "DEBUG:speechbrain.utils.parameter_transfer:Set local path in self.paths[\"classifier\"] = /content/pretrained_models/spkrec-ecapa-voxceleb/classifier.ckpt\n",
            "INFO:speechbrain.utils.fetching:Fetch label_encoder.txt: Using symlink found at '/content/pretrained_models/spkrec-ecapa-voxceleb/label_encoder.ckpt'\n",
            "DEBUG:speechbrain.utils.parameter_transfer:Set local path in self.paths[\"label_encoder\"] = /content/pretrained_models/spkrec-ecapa-voxceleb/label_encoder.ckpt\n",
            "INFO:speechbrain.utils.parameter_transfer:Loading pretrained files for: embedding_model, mean_var_norm_emb, classifier, label_encoder\n",
            "DEBUG:speechbrain.utils.parameter_transfer:Redirecting (loading from local path): embedding_model -> /content/pretrained_models/spkrec-ecapa-voxceleb/embedding_model.ckpt\n",
            "DEBUG:speechbrain.utils.parameter_transfer:Redirecting (loading from local path): mean_var_norm_emb -> /content/pretrained_models/spkrec-ecapa-voxceleb/mean_var_norm_emb.ckpt\n",
            "DEBUG:speechbrain.utils.parameter_transfer:Redirecting (loading from local path): classifier -> /content/pretrained_models/spkrec-ecapa-voxceleb/classifier.ckpt\n",
            "DEBUG:speechbrain.utils.parameter_transfer:Redirecting (loading from local path): label_encoder -> /content/pretrained_models/spkrec-ecapa-voxceleb/label_encoder.ckpt\n",
            "DEBUG:speechbrain.dataio.encoder:Loaded categorical encoding from /content/pretrained_models/spkrec-ecapa-voxceleb/label_encoder.ckpt\n",
            "INFO:speechbrain.utils.fetching:Fetch hyperparams.yaml: Using symlink found at '/content/pretrained_models/spkrec-ecapa-voxceleb/hyperparams.yaml'\n",
            "INFO:speechbrain.utils.fetching:Fetch custom.py: Fetching from HuggingFace Hub 'speechbrain/spkrec-ecapa-voxceleb' if not cached\n"
          ]
        },
        {
          "output_type": "stream",
          "name": "stdout",
          "text": [
            "✅ Processed: WhatsApp Ptt 2025-06-02 at 1.24.21 PM.wav\n"
          ]
        },
        {
          "output_type": "stream",
          "name": "stderr",
          "text": [
            "DEBUG:speechbrain.utils.parameter_transfer:Collecting files (or symlinks) for pretraining in pretrained_models/spkrec-ecapa-voxceleb.\n",
            "INFO:speechbrain.utils.fetching:Fetch embedding_model.ckpt: Using symlink found at '/content/pretrained_models/spkrec-ecapa-voxceleb/embedding_model.ckpt'\n",
            "DEBUG:speechbrain.utils.parameter_transfer:Set local path in self.paths[\"embedding_model\"] = /content/pretrained_models/spkrec-ecapa-voxceleb/embedding_model.ckpt\n",
            "INFO:speechbrain.utils.fetching:Fetch mean_var_norm_emb.ckpt: Using symlink found at '/content/pretrained_models/spkrec-ecapa-voxceleb/mean_var_norm_emb.ckpt'\n",
            "DEBUG:speechbrain.utils.parameter_transfer:Set local path in self.paths[\"mean_var_norm_emb\"] = /content/pretrained_models/spkrec-ecapa-voxceleb/mean_var_norm_emb.ckpt\n",
            "INFO:speechbrain.utils.fetching:Fetch classifier.ckpt: Using symlink found at '/content/pretrained_models/spkrec-ecapa-voxceleb/classifier.ckpt'\n",
            "DEBUG:speechbrain.utils.parameter_transfer:Set local path in self.paths[\"classifier\"] = /content/pretrained_models/spkrec-ecapa-voxceleb/classifier.ckpt\n",
            "INFO:speechbrain.utils.fetching:Fetch label_encoder.txt: Using symlink found at '/content/pretrained_models/spkrec-ecapa-voxceleb/label_encoder.ckpt'\n",
            "DEBUG:speechbrain.utils.parameter_transfer:Set local path in self.paths[\"label_encoder\"] = /content/pretrained_models/spkrec-ecapa-voxceleb/label_encoder.ckpt\n",
            "INFO:speechbrain.utils.parameter_transfer:Loading pretrained files for: embedding_model, mean_var_norm_emb, classifier, label_encoder\n",
            "DEBUG:speechbrain.utils.parameter_transfer:Redirecting (loading from local path): embedding_model -> /content/pretrained_models/spkrec-ecapa-voxceleb/embedding_model.ckpt\n",
            "DEBUG:speechbrain.utils.parameter_transfer:Redirecting (loading from local path): mean_var_norm_emb -> /content/pretrained_models/spkrec-ecapa-voxceleb/mean_var_norm_emb.ckpt\n",
            "DEBUG:speechbrain.utils.parameter_transfer:Redirecting (loading from local path): classifier -> /content/pretrained_models/spkrec-ecapa-voxceleb/classifier.ckpt\n",
            "DEBUG:speechbrain.utils.parameter_transfer:Redirecting (loading from local path): label_encoder -> /content/pretrained_models/spkrec-ecapa-voxceleb/label_encoder.ckpt\n",
            "DEBUG:speechbrain.dataio.encoder:Loaded categorical encoding from /content/pretrained_models/spkrec-ecapa-voxceleb/label_encoder.ckpt\n",
            "INFO:speechbrain.utils.fetching:Fetch hyperparams.yaml: Using symlink found at '/content/pretrained_models/spkrec-ecapa-voxceleb/hyperparams.yaml'\n",
            "INFO:speechbrain.utils.fetching:Fetch custom.py: Fetching from HuggingFace Hub 'speechbrain/spkrec-ecapa-voxceleb' if not cached\n"
          ]
        },
        {
          "output_type": "stream",
          "name": "stdout",
          "text": [
            "❌ Failed: WhatsApp Audio 2025-06-02 at 1.28.13 PM.wav → Error processing audio file WhatsApp Audio 2025-06-02 at 1.28.13 PM.wav: No voiced audio after VAD\n"
          ]
        },
        {
          "output_type": "stream",
          "name": "stderr",
          "text": [
            "DEBUG:speechbrain.utils.parameter_transfer:Collecting files (or symlinks) for pretraining in pretrained_models/spkrec-ecapa-voxceleb.\n",
            "INFO:speechbrain.utils.fetching:Fetch embedding_model.ckpt: Using symlink found at '/content/pretrained_models/spkrec-ecapa-voxceleb/embedding_model.ckpt'\n",
            "DEBUG:speechbrain.utils.parameter_transfer:Set local path in self.paths[\"embedding_model\"] = /content/pretrained_models/spkrec-ecapa-voxceleb/embedding_model.ckpt\n",
            "INFO:speechbrain.utils.fetching:Fetch mean_var_norm_emb.ckpt: Using symlink found at '/content/pretrained_models/spkrec-ecapa-voxceleb/mean_var_norm_emb.ckpt'\n",
            "DEBUG:speechbrain.utils.parameter_transfer:Set local path in self.paths[\"mean_var_norm_emb\"] = /content/pretrained_models/spkrec-ecapa-voxceleb/mean_var_norm_emb.ckpt\n",
            "INFO:speechbrain.utils.fetching:Fetch classifier.ckpt: Using symlink found at '/content/pretrained_models/spkrec-ecapa-voxceleb/classifier.ckpt'\n",
            "DEBUG:speechbrain.utils.parameter_transfer:Set local path in self.paths[\"classifier\"] = /content/pretrained_models/spkrec-ecapa-voxceleb/classifier.ckpt\n",
            "INFO:speechbrain.utils.fetching:Fetch label_encoder.txt: Using symlink found at '/content/pretrained_models/spkrec-ecapa-voxceleb/label_encoder.ckpt'\n",
            "DEBUG:speechbrain.utils.parameter_transfer:Set local path in self.paths[\"label_encoder\"] = /content/pretrained_models/spkrec-ecapa-voxceleb/label_encoder.ckpt\n",
            "INFO:speechbrain.utils.parameter_transfer:Loading pretrained files for: embedding_model, mean_var_norm_emb, classifier, label_encoder\n",
            "DEBUG:speechbrain.utils.parameter_transfer:Redirecting (loading from local path): embedding_model -> /content/pretrained_models/spkrec-ecapa-voxceleb/embedding_model.ckpt\n",
            "DEBUG:speechbrain.utils.parameter_transfer:Redirecting (loading from local path): mean_var_norm_emb -> /content/pretrained_models/spkrec-ecapa-voxceleb/mean_var_norm_emb.ckpt\n",
            "DEBUG:speechbrain.utils.parameter_transfer:Redirecting (loading from local path): classifier -> /content/pretrained_models/spkrec-ecapa-voxceleb/classifier.ckpt\n",
            "DEBUG:speechbrain.utils.parameter_transfer:Redirecting (loading from local path): label_encoder -> /content/pretrained_models/spkrec-ecapa-voxceleb/label_encoder.ckpt\n",
            "DEBUG:speechbrain.dataio.encoder:Loaded categorical encoding from /content/pretrained_models/spkrec-ecapa-voxceleb/label_encoder.ckpt\n"
          ]
        },
        {
          "output_type": "stream",
          "name": "stdout",
          "text": [
            "❌ Failed: WhatsApp Audio 2025-06-02 at 11.29.34 AM.wav → Error processing audio file WhatsApp Audio 2025-06-02 at 11.29.34 AM.wav: No voiced audio after VAD\n"
          ]
        }
      ]
    }
  ],
  "metadata": {
    "colab": {
      "provenance": []
    },
    "language_info": {
      "name": "python"
    },
    "kernelspec": {
      "name": "python3",
      "display_name": "Python 3"
    }
  },
  "nbformat": 4,
  "nbformat_minor": 5
}